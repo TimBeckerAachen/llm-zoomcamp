{
 "cells": [
  {
   "cell_type": "code",
   "execution_count": null,
   "id": "68ad91c8-9566-441a-a205-4f2c1e748a94",
   "metadata": {},
   "outputs": [],
   "source": []
  },
  {
   "cell_type": "markdown",
   "id": "2a3d5a8a-c762-4213-9aae-1197926340e8",
   "metadata": {},
   "source": [
    "# Q1. Getting the embeddings model"
   ]
  },
  {
   "cell_type": "code",
   "execution_count": 1,
   "id": "37546501-d253-425e-9357-7296760726f8",
   "metadata": {},
   "outputs": [
    {
     "name": "stderr",
     "output_type": "stream",
     "text": [
      "/home/tim/.pyenv/versions/llm-zoomcamp/lib/python3.10/site-packages/sentence_transformers/cross_encoder/CrossEncoder.py:11: TqdmExperimentalWarning: Using `tqdm.autonotebook.tqdm` in notebook mode. Use `tqdm.tqdm` instead to force console mode (e.g. in jupyter console)\n",
      "  from tqdm.autonotebook import tqdm, trange\n"
     ]
    }
   ],
   "source": [
    "from sentence_transformers import SentenceTransformer"
   ]
  },
  {
   "cell_type": "code",
   "execution_count": 31,
   "id": "bad58491-6cd6-4d1e-9c36-28ba2fa5f04f",
   "metadata": {},
   "outputs": [],
   "source": [
    "model_name = 'multi-qa-distilbert-cos-v1'\n",
    "embedding_model = SentenceTransformer(model_name)"
   ]
  },
  {
   "cell_type": "code",
   "execution_count": 32,
   "id": "dac94d76-e424-4bb8-96d9-18bb6e916b5c",
   "metadata": {},
   "outputs": [],
   "source": [
    "user_question = \"I just discovered the course. Can I still join it?\""
   ]
  },
  {
   "cell_type": "code",
   "execution_count": 33,
   "id": "1c631e82-e9c2-4a2e-bb67-c85a5c69079f",
   "metadata": {},
   "outputs": [],
   "source": [
    "v_q = embedding_model.encode(user_question)"
   ]
  },
  {
   "cell_type": "code",
   "execution_count": 34,
   "id": "af40e92f-4b9e-4dde-9785-4076d8584df7",
   "metadata": {},
   "outputs": [
    {
     "data": {
      "text/plain": [
       "0.078222655"
      ]
     },
     "execution_count": 34,
     "metadata": {},
     "output_type": "execute_result"
    }
   ],
   "source": [
    "v_q[0]"
   ]
  },
  {
   "cell_type": "markdown",
   "id": "e473377a-5169-457e-ae97-50ac65112585",
   "metadata": {},
   "source": [
    "The first value of the resulting vector is 0.07."
   ]
  },
  {
   "cell_type": "markdown",
   "id": "91dc423f-c2a0-463d-b2ee-67704cf9b210",
   "metadata": {},
   "source": [
    "# Q2. Creating the embeddings"
   ]
  },
  {
   "cell_type": "code",
   "execution_count": 6,
   "id": "005e5bc1-a10c-49c6-a096-cea39803fd5b",
   "metadata": {},
   "outputs": [],
   "source": [
    "import requests\n",
    "import numpy as np\n",
    "\n",
    "base_url = 'https://github.com/DataTalksClub/llm-zoomcamp/blob/main'\n",
    "relative_url = '03-vector-search/eval/documents-with-ids.json'\n",
    "docs_url = f'{base_url}/{relative_url}?raw=1'\n",
    "docs_response = requests.get(docs_url)\n",
    "documents = docs_response.json()"
   ]
  },
  {
   "cell_type": "code",
   "execution_count": 7,
   "id": "953d3aa1-ba6a-4813-97ad-16ebeb1ce002",
   "metadata": {},
   "outputs": [],
   "source": [
    "ml_docs = [d for d in documents if d['course'] == \"machine-learning-zoomcamp\"]"
   ]
  },
  {
   "cell_type": "code",
   "execution_count": 8,
   "id": "018798a1-9c86-44c2-b8b2-c620a3315c0e",
   "metadata": {},
   "outputs": [
    {
     "data": {
      "text/plain": [
       "375"
      ]
     },
     "execution_count": 8,
     "metadata": {},
     "output_type": "execute_result"
    }
   ],
   "source": [
    "len(ml_docs)"
   ]
  },
  {
   "cell_type": "code",
   "execution_count": 9,
   "id": "623d6929-a857-4705-9ac2-7416cea1b0c3",
   "metadata": {},
   "outputs": [],
   "source": [
    "embeddings = []"
   ]
  },
  {
   "cell_type": "code",
   "execution_count": 10,
   "id": "44fa69ef-6438-4bf3-bfbf-4625713a49ce",
   "metadata": {},
   "outputs": [],
   "source": [
    "for doc in ml_docs:\n",
    "    question = doc['question']\n",
    "    text = doc['text']\n",
    "    qa_text = f'{question} {text}'\n",
    "    embeddings.append(embedding_model.encode(qa_text))"
   ]
  },
  {
   "cell_type": "code",
   "execution_count": 11,
   "id": "451ced13-c4a8-4f04-a325-d4aa925df929",
   "metadata": {},
   "outputs": [],
   "source": [
    "X = np.array(embeddings)"
   ]
  },
  {
   "cell_type": "code",
   "execution_count": 12,
   "id": "081d6bcd-5162-4c38-9803-eeb17359be09",
   "metadata": {},
   "outputs": [
    {
     "data": {
      "text/plain": [
       "(375, 768)"
      ]
     },
     "execution_count": 12,
     "metadata": {},
     "output_type": "execute_result"
    }
   ],
   "source": [
    "X.shape"
   ]
  },
  {
   "cell_type": "markdown",
   "id": "21debcf2-207d-47d5-85ce-456be28e6bb4",
   "metadata": {},
   "source": [
    "The shape of X is (375, 768)."
   ]
  },
  {
   "cell_type": "markdown",
   "id": "16363b76-2d61-4580-b67a-fce9b00cc233",
   "metadata": {},
   "source": [
    "# Q3. Search"
   ]
  },
  {
   "cell_type": "code",
   "execution_count": 13,
   "id": "0336f3ff-5f6b-4cee-9916-7e6f925f5536",
   "metadata": {},
   "outputs": [],
   "source": [
    "scores = X.dot(v)"
   ]
  },
  {
   "cell_type": "code",
   "execution_count": 14,
   "id": "42f985cf-fa98-4471-bf63-d00d7b92fda0",
   "metadata": {},
   "outputs": [
    {
     "data": {
      "text/plain": [
       "0.6506573"
      ]
     },
     "execution_count": 14,
     "metadata": {},
     "output_type": "execute_result"
    }
   ],
   "source": [
    "max(scores)"
   ]
  },
  {
   "cell_type": "markdown",
   "id": "6b948602-4437-4314-8273-1ebca17b08fb",
   "metadata": {},
   "source": [
    "The highest score in the results is 0.65."
   ]
  },
  {
   "cell_type": "markdown",
   "id": "46b80179-df74-4267-9fe3-a8789b4b4973",
   "metadata": {},
   "source": [
    "# Q4. Hit-rate for our search engine"
   ]
  },
  {
   "cell_type": "code",
   "execution_count": 15,
   "id": "d735279e-b4ab-40d4-b81b-118da79da4f7",
   "metadata": {},
   "outputs": [],
   "source": [
    "class VectorSearchEngine():\n",
    "    def __init__(self, documents, embeddings):\n",
    "        self.documents = documents\n",
    "        self.embeddings = embeddings\n",
    "\n",
    "    def search(self, v_query, num_results=10):\n",
    "        scores = self.embeddings.dot(v_query)\n",
    "        idx = np.argsort(-scores)[:num_results]\n",
    "        return [self.documents[i] for i in idx]"
   ]
  },
  {
   "cell_type": "code",
   "execution_count": 16,
   "id": "799571af-8673-434a-b4cd-e12ed69e39bf",
   "metadata": {},
   "outputs": [],
   "source": [
    "search_engine = VectorSearchEngine(documents=ml_docs, embeddings=X)\n",
    "_ = search_engine.search(v, num_results=5)"
   ]
  },
  {
   "cell_type": "code",
   "execution_count": 17,
   "id": "05c8e7c5-79a4-46f9-b6a8-e85b025acab1",
   "metadata": {},
   "outputs": [],
   "source": [
    "import pandas as pd\n",
    "\n",
    "base_url = 'https://github.com/DataTalksClub/llm-zoomcamp/blob/main'\n",
    "relative_url = '03-vector-search/eval/ground-truth-data.csv'\n",
    "ground_truth_url = f'{base_url}/{relative_url}?raw=1'\n",
    "\n",
    "df_ground_truth = pd.read_csv(ground_truth_url)\n",
    "df_ground_truth = df_ground_truth[df_ground_truth.course == 'machine-learning-zoomcamp']\n",
    "ground_truth = df_ground_truth.to_dict(orient='records')"
   ]
  },
  {
   "cell_type": "code",
   "execution_count": 18,
   "id": "a70d98eb-9c54-4eec-a3a2-2d05b9501f21",
   "metadata": {},
   "outputs": [],
   "source": [
    "for idx, item in enumerate(ground_truth):\n",
    "    v = embedding_model.encode(item['question'])\n",
    "    ground_truth[idx]['v'] = v"
   ]
  },
  {
   "cell_type": "code",
   "execution_count": 19,
   "id": "577824fa-21f3-48b6-8829-c92c26add094",
   "metadata": {},
   "outputs": [
    {
     "data": {
      "text/plain": [
       "1.0"
      ]
     },
     "execution_count": 19,
     "metadata": {},
     "output_type": "execute_result"
    }
   ],
   "source": [
    "ground_truth[0]['v'].dot(embedding_model.encode(ground_truth[0]['question']))"
   ]
  },
  {
   "cell_type": "code",
   "execution_count": 20,
   "id": "18b89778-30b3-455c-be6b-c1bcfe88f9d1",
   "metadata": {},
   "outputs": [],
   "source": [
    "hit_rate_dict = {}\n",
    "\n",
    "for idx, item in enumerate(ground_truth):\n",
    "    search_results = search_engine.search(item['v'], num_results=5)\n",
    "    hit_rate_dict[ground_truth[idx]['document']] = [d['id'] for d in search_results]"
   ]
  },
  {
   "cell_type": "code",
   "execution_count": 21,
   "id": "93911954-3873-4a7e-8426-3abf8dd95079",
   "metadata": {},
   "outputs": [
    {
     "data": {
      "text/plain": [
       "0.9037433155080213"
      ]
     },
     "execution_count": 21,
     "metadata": {},
     "output_type": "execute_result"
    }
   ],
   "source": [
    "sum([int(k in i) for k, i in hit_rate_dict.items()]) / len(hit_rate_dict)"
   ]
  },
  {
   "cell_type": "markdown",
   "id": "022c75c2-0e6f-41e0-a77f-ee7877bff7d7",
   "metadata": {},
   "source": [
    "The hit rate is 90%"
   ]
  },
  {
   "cell_type": "markdown",
   "id": "ae6e5feb-e018-4629-a85e-3559f580f0ae",
   "metadata": {},
   "source": [
    "# Q5. Indexing with Elasticsearch"
   ]
  },
  {
   "cell_type": "code",
   "execution_count": 22,
   "id": "2c0860e4-eb79-48ac-b700-cf5eb1f21786",
   "metadata": {},
   "outputs": [],
   "source": [
    "from elasticsearch import Elasticsearch"
   ]
  },
  {
   "cell_type": "code",
   "execution_count": 23,
   "id": "13622fbf-4b5d-4e86-a33c-8efa057a8503",
   "metadata": {},
   "outputs": [],
   "source": [
    "es_client = Elasticsearch('http://localhost:9200')"
   ]
  },
  {
   "cell_type": "code",
   "execution_count": 24,
   "id": "bf68573d-f01b-4ca9-bdb7-913b19995721",
   "metadata": {},
   "outputs": [
    {
     "data": {
      "text/plain": [
       "ObjectApiResponse({'acknowledged': True, 'shards_acknowledged': True, 'index': 'course-questions'})"
      ]
     },
     "execution_count": 24,
     "metadata": {},
     "output_type": "execute_result"
    }
   ],
   "source": [
    "index_settings = {\n",
    "    \"settings\": {\n",
    "        \"number_of_shards\": 1,\n",
    "        \"number_of_replicas\": 0\n",
    "    },\n",
    "    \"mappings\": {\n",
    "        \"properties\": {\n",
    "            \"text\": {\"type\": \"text\"},\n",
    "            \"section\": {\"type\": \"text\"},\n",
    "            \"question\": {\"type\": \"text\"},\n",
    "            \"course\": {\"type\": \"keyword\"},\n",
    "            \"id\": {\"type\": \"keyword\"},\n",
    "            \"question_text_vector\": {\n",
    "                \"type\": \"dense_vector\",\n",
    "                \"dims\": 768,\n",
    "                \"index\": True,\n",
    "                \"similarity\": \"cosine\"\n",
    "            },\n",
    "        }\n",
    "    }\n",
    "}\n",
    "\n",
    "index_name = \"course-questions\"\n",
    "\n",
    "es_client.indices.delete(index=index_name, ignore_unavailable=True)\n",
    "es_client.indices.create(index=index_name, body=index_settings)"
   ]
  },
  {
   "cell_type": "code",
   "execution_count": 25,
   "id": "b6e65faf-7738-4890-97f1-10c5bc61cb79",
   "metadata": {},
   "outputs": [],
   "source": [
    "from tqdm.auto import tqdm"
   ]
  },
  {
   "cell_type": "code",
   "execution_count": 26,
   "id": "71ac53c7-d5cf-43bb-b36a-057c4d6c963f",
   "metadata": {},
   "outputs": [],
   "source": [
    "for idx, doc in enumerate(ml_docs):\n",
    "    tmp = {\n",
    "            \"text\": doc['text'],\n",
    "            \"section\": doc['section'],\n",
    "            \"question\": doc['question'],\n",
    "            \"course\": doc['course'],\n",
    "            \"id\": doc['id'],\n",
    "            \"question_text_vector\": embeddings[idx] \n",
    "    }\n",
    "    es_client.index(index=index_name, document=tmp)"
   ]
  },
  {
   "cell_type": "code",
   "execution_count": 27,
   "id": "79ef764d-c2c8-456a-ae16-8421dce08879",
   "metadata": {},
   "outputs": [],
   "source": [
    "def elastic_search_knn(field, vector, course):\n",
    "    knn = {\n",
    "        \"field\": field,\n",
    "        \"query_vector\": vector,\n",
    "        \"k\": 5,\n",
    "        \"num_candidates\": 10000,\n",
    "        \"filter\": {\n",
    "            \"term\": {\n",
    "                \"course\": course\n",
    "            }\n",
    "        }\n",
    "    }\n",
    "\n",
    "    search_query = {\n",
    "        \"knn\": knn,\n",
    "        \"_source\": [\"text\", \"section\", \"question\", \"course\", \"id\"]\n",
    "    }\n",
    "\n",
    "    es_results = es_client.search(\n",
    "        index=index_name,\n",
    "        body=search_query\n",
    "    )\n",
    "    \n",
    "    result_docs = []\n",
    "    \n",
    "    for hit in es_results['hits']['hits']:\n",
    "        result_docs.append(hit['_source'])\n",
    "\n",
    "    return result_docs"
   ]
  },
  {
   "cell_type": "code",
   "execution_count": 35,
   "id": "8acf5bc7-0edb-43fa-80dd-1d71017a923f",
   "metadata": {},
   "outputs": [],
   "source": [
    "highest_matches = elastic_search_knn(\"question_text_vector\", v_q, 'machine-learning-zoomcamp')"
   ]
  },
  {
   "cell_type": "code",
   "execution_count": 36,
   "id": "2e5d3b0e-53cb-4cc2-87d5-19e9b01c27ba",
   "metadata": {},
   "outputs": [
    {
     "data": {
      "text/plain": [
       "{'question': 'The course has already started. Can I still join it?',\n",
       " 'course': 'machine-learning-zoomcamp',\n",
       " 'section': 'General course-related questions',\n",
       " 'text': 'Yes, you can. You won’t be able to submit some of the homeworks, but you can still take part in the course.\\nIn order to get a certificate, you need to submit 2 out of 3 course projects and review 3 peers’ Projects by the deadline. It means that if you join the course at the end of November and manage to work on two projects, you will still be eligible for a certificate.',\n",
       " 'id': 'ee58a693'}"
      ]
     },
     "execution_count": 36,
     "metadata": {},
     "output_type": "execute_result"
    }
   ],
   "source": [
    "highest_matches[0]"
   ]
  },
  {
   "cell_type": "markdown",
   "id": "3364f009-f509-4a36-8a24-82324236f9ea",
   "metadata": {},
   "source": [
    "The id of the document with the highest score is 'ee58a693'."
   ]
  },
  {
   "cell_type": "markdown",
   "id": "2ffe354b-32da-4ed1-a208-3039654c2ccc",
   "metadata": {},
   "source": [
    "# Q6. Hit-rate for Elasticsearch"
   ]
  },
  {
   "cell_type": "code",
   "execution_count": 37,
   "id": "55e15458-e8de-4d34-942d-951002fadfe2",
   "metadata": {},
   "outputs": [],
   "source": [
    "hit_rate_dict_es = {}\n",
    "\n",
    "for idx, item in enumerate(ground_truth):\n",
    "    search_results = elastic_search_knn(\"question_text_vector\", item['v'], 'machine-learning-zoomcamp')\n",
    "    hit_rate_dict_es[ground_truth[idx]['document']] = [d['id'] for d in search_results]"
   ]
  },
  {
   "cell_type": "code",
   "execution_count": 38,
   "id": "02be3bec-96f1-4e83-898a-abe253d42cc3",
   "metadata": {},
   "outputs": [
    {
     "data": {
      "text/plain": [
       "0.9037433155080213"
      ]
     },
     "execution_count": 38,
     "metadata": {},
     "output_type": "execute_result"
    }
   ],
   "source": [
    "sum([int(k in i) for k, i in hit_rate_dict_es.items()]) / len(hit_rate_dict_es)"
   ]
  },
  {
   "cell_type": "markdown",
   "id": "7b47492f-8333-4b2e-82ad-5bd93eb3223b",
   "metadata": {},
   "source": [
    "The hit rate stays the same."
   ]
  },
  {
   "cell_type": "code",
   "execution_count": null,
   "id": "7ee11f7b-f5bf-4199-9bcd-287b19961c6f",
   "metadata": {},
   "outputs": [],
   "source": []
  }
 ],
 "metadata": {
  "kernelspec": {
   "display_name": "llm-zoomcamp",
   "language": "python",
   "name": "llm-zoomcamp"
  },
  "language_info": {
   "codemirror_mode": {
    "name": "ipython",
    "version": 3
   },
   "file_extension": ".py",
   "mimetype": "text/x-python",
   "name": "python",
   "nbconvert_exporter": "python",
   "pygments_lexer": "ipython3",
   "version": "3.10.9"
  }
 },
 "nbformat": 4,
 "nbformat_minor": 5
}
