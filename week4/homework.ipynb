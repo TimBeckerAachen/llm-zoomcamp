{
 "cells": [
  {
   "cell_type": "code",
   "execution_count": 22,
   "id": "1c51d8a8-77e7-492f-8383-dd00d5e5b827",
   "metadata": {},
   "outputs": [],
   "source": [
    "from tqdm import tqdm\n",
    "import pandas as pd"
   ]
  },
  {
   "cell_type": "code",
   "execution_count": 3,
   "id": "096f358d-a5bc-49f0-a48b-ec9f34c993a1",
   "metadata": {},
   "outputs": [],
   "source": [
    "github_url = 'https://github.com/DataTalksClub/llm-zoomcamp/blob/main/04-monitoring/data/results-gpt4o-mini.csv'\n",
    "url = f'{github_url}?raw=1'\n",
    "df = pd.read_csv(url)"
   ]
  },
  {
   "cell_type": "code",
   "execution_count": 4,
   "id": "0b9c1c67-e12b-49a9-9e08-5efa8377ccce",
   "metadata": {},
   "outputs": [],
   "source": [
    "df = df.iloc[:300]"
   ]
  },
  {
   "cell_type": "markdown",
   "id": "1d7dcacf-410d-4771-b5d8-7eb6c97bbdab",
   "metadata": {},
   "source": [
    "# Q1. Getting the embeddings model"
   ]
  },
  {
   "cell_type": "code",
   "execution_count": 6,
   "id": "fc21c3ef-4233-4766-8b74-f19efaa1cda8",
   "metadata": {},
   "outputs": [],
   "source": [
    "from sentence_transformers import SentenceTransformer"
   ]
  },
  {
   "cell_type": "code",
   "execution_count": 7,
   "id": "40d506da-f8a8-4858-a86b-acb1bf64f896",
   "metadata": {},
   "outputs": [
    {
     "name": "stderr",
     "output_type": "stream",
     "text": [
      "/home/tim/.pyenv/versions/llm-zoomcamp/lib/python3.10/site-packages/torch/cuda/__init__.py:118: UserWarning: CUDA initialization: The NVIDIA driver on your system is too old (found version 11040). Please update your GPU driver by downloading and installing a new version from the URL: http://www.nvidia.com/Download/index.aspx Alternatively, go to: https://pytorch.org to install a PyTorch version that has been compiled with your version of the CUDA driver. (Triggered internally at ../c10/cuda/CUDAFunctions.cpp:108.)\n",
      "  return torch._C._cuda_getDeviceCount() > 0\n"
     ]
    },
    {
     "data": {
      "application/vnd.jupyter.widget-view+json": {
       "model_id": "a862a1087ea2443287a60c97b93149d7",
       "version_major": 2,
       "version_minor": 0
      },
      "text/plain": [
       "modules.json:   0%|          | 0.00/229 [00:00<?, ?B/s]"
      ]
     },
     "metadata": {},
     "output_type": "display_data"
    },
    {
     "data": {
      "application/vnd.jupyter.widget-view+json": {
       "model_id": "862dc745623e4b2ca18d2c358a04e5f5",
       "version_major": 2,
       "version_minor": 0
      },
      "text/plain": [
       "config_sentence_transformers.json:   0%|          | 0.00/212 [00:00<?, ?B/s]"
      ]
     },
     "metadata": {},
     "output_type": "display_data"
    },
    {
     "data": {
      "application/vnd.jupyter.widget-view+json": {
       "model_id": "6fe6b3e737f04aaabc8ac3e5bcdafcdc",
       "version_major": 2,
       "version_minor": 0
      },
      "text/plain": [
       "README.md:   0%|          | 0.00/8.71k [00:00<?, ?B/s]"
      ]
     },
     "metadata": {},
     "output_type": "display_data"
    },
    {
     "data": {
      "application/vnd.jupyter.widget-view+json": {
       "model_id": "31901f7e53384630907f4c8620b45a59",
       "version_major": 2,
       "version_minor": 0
      },
      "text/plain": [
       "sentence_bert_config.json:   0%|          | 0.00/53.0 [00:00<?, ?B/s]"
      ]
     },
     "metadata": {},
     "output_type": "display_data"
    },
    {
     "data": {
      "application/vnd.jupyter.widget-view+json": {
       "model_id": "fe296d3bc53749528969425c4e5e78b3",
       "version_major": 2,
       "version_minor": 0
      },
      "text/plain": [
       "config.json:   0%|          | 0.00/571 [00:00<?, ?B/s]"
      ]
     },
     "metadata": {},
     "output_type": "display_data"
    },
    {
     "data": {
      "application/vnd.jupyter.widget-view+json": {
       "model_id": "7e4b854e989e48618a65b8344bf6bd1a",
       "version_major": 2,
       "version_minor": 0
      },
      "text/plain": [
       "model.safetensors:   0%|          | 0.00/438M [00:00<?, ?B/s]"
      ]
     },
     "metadata": {},
     "output_type": "display_data"
    },
    {
     "data": {
      "application/vnd.jupyter.widget-view+json": {
       "model_id": "13040118eb0640d699628b5f375900bf",
       "version_major": 2,
       "version_minor": 0
      },
      "text/plain": [
       "tokenizer_config.json:   0%|          | 0.00/363 [00:00<?, ?B/s]"
      ]
     },
     "metadata": {},
     "output_type": "display_data"
    },
    {
     "data": {
      "application/vnd.jupyter.widget-view+json": {
       "model_id": "a3621694bd5c44e7ad3d64b71ac43feb",
       "version_major": 2,
       "version_minor": 0
      },
      "text/plain": [
       "vocab.txt:   0%|          | 0.00/232k [00:00<?, ?B/s]"
      ]
     },
     "metadata": {},
     "output_type": "display_data"
    },
    {
     "data": {
      "application/vnd.jupyter.widget-view+json": {
       "model_id": "640b614b95614e28bb4fd3c5237319b1",
       "version_major": 2,
       "version_minor": 0
      },
      "text/plain": [
       "tokenizer.json:   0%|          | 0.00/466k [00:00<?, ?B/s]"
      ]
     },
     "metadata": {},
     "output_type": "display_data"
    },
    {
     "data": {
      "application/vnd.jupyter.widget-view+json": {
       "model_id": "f51244e1f1044e378d1dd8b3615c85c3",
       "version_major": 2,
       "version_minor": 0
      },
      "text/plain": [
       "special_tokens_map.json:   0%|          | 0.00/239 [00:00<?, ?B/s]"
      ]
     },
     "metadata": {},
     "output_type": "display_data"
    },
    {
     "data": {
      "application/vnd.jupyter.widget-view+json": {
       "model_id": "c539aaa9892e42909d95edddf5fc32e0",
       "version_major": 2,
       "version_minor": 0
      },
      "text/plain": [
       "1_Pooling/config.json:   0%|          | 0.00/190 [00:00<?, ?B/s]"
      ]
     },
     "metadata": {},
     "output_type": "display_data"
    }
   ],
   "source": [
    "model_name = 'multi-qa-mpnet-base-dot-v1'\n",
    "embedding_model = SentenceTransformer(model_name)"
   ]
  },
  {
   "cell_type": "code",
   "execution_count": 8,
   "id": "ab470e2c-36a6-49eb-931f-b2496e51fed8",
   "metadata": {},
   "outputs": [],
   "source": [
    "answer_llm = df.iloc[0].answer_llm"
   ]
  },
  {
   "cell_type": "code",
   "execution_count": 10,
   "id": "28a7d8a5-20a5-4430-80d9-044054b72cf7",
   "metadata": {},
   "outputs": [
    {
     "data": {
      "text/plain": [
       "'You can sign up for the course by visiting the course page at [http://mlzoomcamp.com/](http://mlzoomcamp.com/).'"
      ]
     },
     "execution_count": 10,
     "metadata": {},
     "output_type": "execute_result"
    }
   ],
   "source": [
    "answer_llm"
   ]
  },
  {
   "cell_type": "code",
   "execution_count": 11,
   "id": "a406187b-a584-4b70-8126-45aaaf18391f",
   "metadata": {},
   "outputs": [],
   "source": [
    "embedding = embedding_model.encode(answer_llm)"
   ]
  },
  {
   "cell_type": "code",
   "execution_count": 13,
   "id": "66181707-ebb2-45aa-9703-c6413a89f121",
   "metadata": {},
   "outputs": [
    {
     "data": {
      "text/plain": [
       "-0.42244655"
      ]
     },
     "execution_count": 13,
     "metadata": {},
     "output_type": "execute_result"
    }
   ],
   "source": [
    "embedding[0]"
   ]
  },
  {
   "cell_type": "markdown",
   "id": "17fd9721-4fc9-4a71-a324-e613549c47e4",
   "metadata": {},
   "source": [
    "The first value of the resulting vector is -0.42."
   ]
  },
  {
   "cell_type": "markdown",
   "id": "9153fd7a-3874-4c1f-87b1-c4a58ea16e78",
   "metadata": {},
   "source": [
    "# Q2. Computing the dot product"
   ]
  },
  {
   "cell_type": "code",
   "execution_count": 14,
   "id": "66443733-34dc-4b31-8b7f-96a1aa7d5a03",
   "metadata": {},
   "outputs": [],
   "source": [
    "evaluations = []"
   ]
  },
  {
   "cell_type": "code",
   "execution_count": 15,
   "id": "727c777f-aff3-41f2-b5bd-e6bbf92ee7d6",
   "metadata": {},
   "outputs": [
    {
     "data": {
      "text/html": [
       "<div>\n",
       "<style scoped>\n",
       "    .dataframe tbody tr th:only-of-type {\n",
       "        vertical-align: middle;\n",
       "    }\n",
       "\n",
       "    .dataframe tbody tr th {\n",
       "        vertical-align: top;\n",
       "    }\n",
       "\n",
       "    .dataframe thead th {\n",
       "        text-align: right;\n",
       "    }\n",
       "</style>\n",
       "<table border=\"1\" class=\"dataframe\">\n",
       "  <thead>\n",
       "    <tr style=\"text-align: right;\">\n",
       "      <th></th>\n",
       "      <th>answer_llm</th>\n",
       "      <th>answer_orig</th>\n",
       "      <th>document</th>\n",
       "      <th>question</th>\n",
       "      <th>course</th>\n",
       "    </tr>\n",
       "  </thead>\n",
       "  <tbody>\n",
       "    <tr>\n",
       "      <th>0</th>\n",
       "      <td>You can sign up for the course by visiting the...</td>\n",
       "      <td>Machine Learning Zoomcamp FAQ\\nThe purpose of ...</td>\n",
       "      <td>0227b872</td>\n",
       "      <td>Where can I sign up for the course?</td>\n",
       "      <td>machine-learning-zoomcamp</td>\n",
       "    </tr>\n",
       "    <tr>\n",
       "      <th>1</th>\n",
       "      <td>You can sign up using the link provided in the...</td>\n",
       "      <td>Machine Learning Zoomcamp FAQ\\nThe purpose of ...</td>\n",
       "      <td>0227b872</td>\n",
       "      <td>Can you provide a link to sign up?</td>\n",
       "      <td>machine-learning-zoomcamp</td>\n",
       "    </tr>\n",
       "    <tr>\n",
       "      <th>2</th>\n",
       "      <td>Yes, there is an FAQ for the Machine Learning ...</td>\n",
       "      <td>Machine Learning Zoomcamp FAQ\\nThe purpose of ...</td>\n",
       "      <td>0227b872</td>\n",
       "      <td>Is there an FAQ for this Machine Learning course?</td>\n",
       "      <td>machine-learning-zoomcamp</td>\n",
       "    </tr>\n",
       "    <tr>\n",
       "      <th>3</th>\n",
       "      <td>The context does not provide any specific info...</td>\n",
       "      <td>Machine Learning Zoomcamp FAQ\\nThe purpose of ...</td>\n",
       "      <td>0227b872</td>\n",
       "      <td>Does this course have a GitHub repository for ...</td>\n",
       "      <td>machine-learning-zoomcamp</td>\n",
       "    </tr>\n",
       "    <tr>\n",
       "      <th>4</th>\n",
       "      <td>To structure your questions and answers for th...</td>\n",
       "      <td>Machine Learning Zoomcamp FAQ\\nThe purpose of ...</td>\n",
       "      <td>0227b872</td>\n",
       "      <td>How can I structure my questions and answers f...</td>\n",
       "      <td>machine-learning-zoomcamp</td>\n",
       "    </tr>\n",
       "  </tbody>\n",
       "</table>\n",
       "</div>"
      ],
      "text/plain": [
       "                                          answer_llm  \\\n",
       "0  You can sign up for the course by visiting the...   \n",
       "1  You can sign up using the link provided in the...   \n",
       "2  Yes, there is an FAQ for the Machine Learning ...   \n",
       "3  The context does not provide any specific info...   \n",
       "4  To structure your questions and answers for th...   \n",
       "\n",
       "                                         answer_orig  document  \\\n",
       "0  Machine Learning Zoomcamp FAQ\\nThe purpose of ...  0227b872   \n",
       "1  Machine Learning Zoomcamp FAQ\\nThe purpose of ...  0227b872   \n",
       "2  Machine Learning Zoomcamp FAQ\\nThe purpose of ...  0227b872   \n",
       "3  Machine Learning Zoomcamp FAQ\\nThe purpose of ...  0227b872   \n",
       "4  Machine Learning Zoomcamp FAQ\\nThe purpose of ...  0227b872   \n",
       "\n",
       "                                            question  \\\n",
       "0                Where can I sign up for the course?   \n",
       "1                 Can you provide a link to sign up?   \n",
       "2  Is there an FAQ for this Machine Learning course?   \n",
       "3  Does this course have a GitHub repository for ...   \n",
       "4  How can I structure my questions and answers f...   \n",
       "\n",
       "                      course  \n",
       "0  machine-learning-zoomcamp  \n",
       "1  machine-learning-zoomcamp  \n",
       "2  machine-learning-zoomcamp  \n",
       "3  machine-learning-zoomcamp  \n",
       "4  machine-learning-zoomcamp  "
      ]
     },
     "execution_count": 15,
     "metadata": {},
     "output_type": "execute_result"
    }
   ],
   "source": [
    "df.head()"
   ]
  },
  {
   "cell_type": "code",
   "execution_count": 17,
   "id": "b04ae105-e65e-4d44-8885-cf89ac632ca3",
   "metadata": {},
   "outputs": [],
   "source": [
    "results_gpt4o_mini = df.to_dict(orient='records')"
   ]
  },
  {
   "cell_type": "code",
   "execution_count": 18,
   "id": "e818d027-7754-4dc0-94aa-9c061234992c",
   "metadata": {},
   "outputs": [
    {
     "data": {
      "text/plain": [
       "{'answer_llm': 'You can sign up for the course by visiting the course page at [http://mlzoomcamp.com/](http://mlzoomcamp.com/).',\n",
       " 'answer_orig': 'Machine Learning Zoomcamp FAQ\\nThe purpose of this document is to capture frequently asked technical questions.\\nWe did this for our data engineering course and it worked quite well. Check this document for inspiration on how to structure your questions and answers:\\nData Engineering Zoomcamp FAQ\\nIn the course GitHub repository there’s a link. Here it is: https://airtable.com/shryxwLd0COOEaqXo\\nwork',\n",
       " 'document': '0227b872',\n",
       " 'question': 'Where can I sign up for the course?',\n",
       " 'course': 'machine-learning-zoomcamp'}"
      ]
     },
     "execution_count": 18,
     "metadata": {},
     "output_type": "execute_result"
    }
   ],
   "source": [
    "results_gpt4o_mini[0]"
   ]
  },
  {
   "cell_type": "code",
   "execution_count": 19,
   "id": "7cdc86f1-11cd-411d-82ce-4edb773c6c53",
   "metadata": {},
   "outputs": [],
   "source": [
    "def compute_similarity(record):\n",
    "    answer_orig = record['answer_orig']\n",
    "    answer_llm = record['answer_llm']\n",
    "    \n",
    "    v_llm = embedding_model.encode(answer_llm)\n",
    "    v_orig = embedding_model.encode(answer_orig)\n",
    "    \n",
    "    return v_llm.dot(v_orig)"
   ]
  },
  {
   "cell_type": "code",
   "execution_count": 24,
   "id": "05fc1457-8728-4355-8b28-c8179f034516",
   "metadata": {},
   "outputs": [
    {
     "name": "stderr",
     "output_type": "stream",
     "text": [
      "100%|█████████████████████████████████████████████████████████████████████████████████████████████████████████████████████████████████| 300/300 [00:59<00:00,  5.05it/s]\n"
     ]
    }
   ],
   "source": [
    "for record in tqdm(results_gpt4o_mini):\n",
    "    sim = compute_similarity(record)\n",
    "    evaluations.append(sim)"
   ]
  },
  {
   "cell_type": "code",
   "execution_count": 25,
   "id": "37e24f55-1a00-4951-bf91-4019b97bf42f",
   "metadata": {},
   "outputs": [],
   "source": [
    "import numpy as np"
   ]
  },
  {
   "cell_type": "code",
   "execution_count": 26,
   "id": "b09114c4-d0e2-4f9b-96ce-587de4c52998",
   "metadata": {},
   "outputs": [
    {
     "data": {
      "text/plain": [
       "31.67430877685547"
      ]
     },
     "execution_count": 26,
     "metadata": {},
     "output_type": "execute_result"
    }
   ],
   "source": [
    "np.percentile(evaluations, 75)"
   ]
  },
  {
   "cell_type": "markdown",
   "id": "be7fc72f-109d-4fd3-bfd9-38d58bc17044",
   "metadata": {},
   "source": [
    "The 75% percential is 31.67."
   ]
  },
  {
   "cell_type": "markdown",
   "id": "3034162f-4318-4be8-ac03-70fdd41cb5d2",
   "metadata": {},
   "source": [
    "# Q3. Computing the cosine"
   ]
  },
  {
   "cell_type": "code",
   "execution_count": 27,
   "id": "e8ac271c-39d0-4daa-9d1b-d8c54128ecb9",
   "metadata": {},
   "outputs": [],
   "source": [
    "def calc_norm(v):\n",
    "    norm = np.sqrt((v * v).sum())\n",
    "    v_norm = v / norm\n",
    "    return v_norm"
   ]
  },
  {
   "cell_type": "code",
   "execution_count": 29,
   "id": "8d4e3dff-ba16-416c-8564-74fa860c5751",
   "metadata": {},
   "outputs": [],
   "source": [
    "def compute_cosine_similarity(record):\n",
    "    answer_orig = record['answer_orig']\n",
    "    answer_llm = record['answer_llm']\n",
    "    \n",
    "    v_llm = embedding_model.encode(answer_llm)\n",
    "    v_orig = embedding_model.encode(answer_orig)\n",
    "\n",
    "    v_llm_norm = calc_norm(v_llm)\n",
    "    v_orig_norm = calc_norm(v_orig)\n",
    "    \n",
    "    return v_llm_norm.dot(v_orig_norm)"
   ]
  },
  {
   "cell_type": "code",
   "execution_count": 30,
   "id": "76ecaaf4-66d3-4c23-9665-2c53f2201ae1",
   "metadata": {},
   "outputs": [],
   "source": [
    "cosine_similarity = []"
   ]
  },
  {
   "cell_type": "code",
   "execution_count": 31,
   "id": "12ed6f99-9155-484e-9ad3-23124dc6265c",
   "metadata": {},
   "outputs": [
    {
     "name": "stderr",
     "output_type": "stream",
     "text": [
      "100%|█████████████████████████████████████████████████████████████████████████████████████████████████████████████████████████████████| 300/300 [00:50<00:00,  5.96it/s]\n"
     ]
    }
   ],
   "source": [
    "for record in tqdm(results_gpt4o_mini):\n",
    "    sim = compute_cosine_similarity(record)\n",
    "    cosine_similarity.append(sim)"
   ]
  },
  {
   "cell_type": "code",
   "execution_count": 32,
   "id": "489d932f-893b-4fc2-8913-4b77d02f92a5",
   "metadata": {},
   "outputs": [
    {
     "name": "stdout",
     "output_type": "stream",
     "text": [
      "0.12535673\n",
      "0.9587959\n"
     ]
    }
   ],
   "source": [
    "print(min(cosine_similarity))\n",
    "print(max(cosine_similarity))"
   ]
  },
  {
   "cell_type": "code",
   "execution_count": 34,
   "id": "6a375f7e-d139-4aab-b192-558901b94423",
   "metadata": {},
   "outputs": [
    {
     "data": {
      "text/plain": [
       "0.8362348973751068"
      ]
     },
     "execution_count": 34,
     "metadata": {},
     "output_type": "execute_result"
    }
   ],
   "source": [
    "np.percentile(cosine_similarity, 75)"
   ]
  },
  {
   "cell_type": "markdown",
   "id": "47582256-c663-4db0-a41d-e8f4fe941f45",
   "metadata": {},
   "source": [
    "The 75% percentile value for the cosine similarity is 0.83."
   ]
  },
  {
   "cell_type": "markdown",
   "id": "fb616a12-0055-4627-9a4e-1321b531c005",
   "metadata": {},
   "source": [
    "# Q4. Rouge"
   ]
  },
  {
   "cell_type": "code",
   "execution_count": 35,
   "id": "53074de2-4725-4973-8300-6468dae17b46",
   "metadata": {},
   "outputs": [],
   "source": [
    "from rouge import Rouge"
   ]
  },
  {
   "cell_type": "code",
   "execution_count": 36,
   "id": "a686143e-6055-4410-904f-bb06066d66f2",
   "metadata": {},
   "outputs": [],
   "source": [
    "rouge_scorer = Rouge()"
   ]
  },
  {
   "cell_type": "code",
   "execution_count": 39,
   "id": "0f792385-8661-45d4-9abf-d9e889024c5c",
   "metadata": {},
   "outputs": [],
   "source": [
    "r = results_gpt4o_mini[10]"
   ]
  },
  {
   "cell_type": "code",
   "execution_count": 40,
   "id": "3cdecc18-c221-460c-a333-39b68f1ecf6f",
   "metadata": {},
   "outputs": [
    {
     "data": {
      "text/plain": [
       "True"
      ]
     },
     "execution_count": 40,
     "metadata": {},
     "output_type": "execute_result"
    }
   ],
   "source": [
    "r['document'] == '5170565b'"
   ]
  },
  {
   "cell_type": "code",
   "execution_count": 41,
   "id": "fe604a8c-cba3-43f9-b160-259db9e0f80d",
   "metadata": {},
   "outputs": [],
   "source": [
    "scores = rouge_scorer.get_scores(r['answer_llm'], r['answer_orig'])[0]"
   ]
  },
  {
   "cell_type": "code",
   "execution_count": 42,
   "id": "2b3f22ec-732b-4016-ad5f-e4c44c7b7801",
   "metadata": {},
   "outputs": [
    {
     "data": {
      "text/plain": [
       "{'rouge-1': {'r': 0.45454545454545453,\n",
       "  'p': 0.45454545454545453,\n",
       "  'f': 0.45454544954545456},\n",
       " 'rouge-2': {'r': 0.21621621621621623,\n",
       "  'p': 0.21621621621621623,\n",
       "  'f': 0.21621621121621637},\n",
       " 'rouge-l': {'r': 0.3939393939393939,\n",
       "  'p': 0.3939393939393939,\n",
       "  'f': 0.393939388939394}}"
      ]
     },
     "execution_count": 42,
     "metadata": {},
     "output_type": "execute_result"
    }
   ],
   "source": [
    "scores"
   ]
  },
  {
   "cell_type": "markdown",
   "id": "2bc6980c-3eee-4357-b9e5-1101fb47be70",
   "metadata": {},
   "source": [
    "The F score for rouge-1 is 0.45."
   ]
  },
  {
   "cell_type": "markdown",
   "id": "ef42648c-3f81-4a8d-9cd2-46a90e20cffa",
   "metadata": {},
   "source": [
    "# Q5. Average rouge score"
   ]
  },
  {
   "cell_type": "code",
   "execution_count": 47,
   "id": "def2af1a-b3ef-41d7-8865-a5e3c5b20886",
   "metadata": {},
   "outputs": [],
   "source": [
    "list_of_scores = [scores['rouge-1']['f'], scores['rouge-2']['f'], scores['rouge-l']['f']]"
   ]
  },
  {
   "cell_type": "code",
   "execution_count": 48,
   "id": "66ae5d19-b33f-4e33-98f6-57f46b3f87bd",
   "metadata": {},
   "outputs": [
    {
     "data": {
      "text/plain": [
       "0.35490034990035496"
      ]
     },
     "execution_count": 48,
     "metadata": {},
     "output_type": "execute_result"
    }
   ],
   "source": [
    "sum(list_of_scores)/len(list_of_scores)"
   ]
  },
  {
   "cell_type": "markdown",
   "id": "7cd4da21-7232-4c6f-89ee-d04e3a5a331a",
   "metadata": {},
   "source": [
    "The average F-score is 0.35."
   ]
  },
  {
   "cell_type": "markdown",
   "id": "9e073f78-5672-46d6-8541-63f59c0cc46b",
   "metadata": {},
   "source": [
    "# Q6. Average rouge score for all the data points"
   ]
  },
  {
   "cell_type": "code",
   "execution_count": 50,
   "id": "a26ba99b-13c9-4220-9948-6358c44198b2",
   "metadata": {},
   "outputs": [
    {
     "name": "stderr",
     "output_type": "stream",
     "text": [
      "100%|████████████████████████████████████████████████████████████████████████████████████████████████████████████████████████████████| 300/300 [00:00<00:00, 364.75it/s]\n"
     ]
    }
   ],
   "source": [
    "rouge_scores = []\n",
    "\n",
    "for record in tqdm(results_gpt4o_mini):\n",
    "    rouge_score = rouge_scorer.get_scores(record['answer_llm'], record['answer_orig'])[0]\n",
    "    rouge_scores.append(rouge_score)"
   ]
  },
  {
   "cell_type": "code",
   "execution_count": 54,
   "id": "f581bb20-ac80-4298-8866-fe53d9b1952a",
   "metadata": {},
   "outputs": [],
   "source": [
    "flatt_rouge = []\n",
    "\n",
    "for data in rouge_scores:\n",
    "    flattened_data = {}\n",
    "    for key1, sub_dict in data.items():\n",
    "        for key2, value in sub_dict.items():\n",
    "            flattened_key = f\"{key1}_{key2}\"\n",
    "            flattened_data[flattened_key] = value\n",
    "    flatt_rouge.append(flattened_data)"
   ]
  },
  {
   "cell_type": "code",
   "execution_count": 56,
   "id": "a35801e4-975e-445e-92ce-83dfb10934b6",
   "metadata": {},
   "outputs": [],
   "source": [
    "df_rouge = pd.DataFrame(flatt_rouge)"
   ]
  },
  {
   "cell_type": "code",
   "execution_count": 59,
   "id": "52122203-6641-40b5-98ca-af58d881dd39",
   "metadata": {},
   "outputs": [
    {
     "data": {
      "text/plain": [
       "rouge-1_r    0.357817\n",
       "rouge-1_p    0.472618\n",
       "rouge-1_f    0.378844\n",
       "rouge-2_r    0.198613\n",
       "rouge-2_p    0.258626\n",
       "rouge-2_f    0.206965\n",
       "rouge-l_r    0.334597\n",
       "rouge-l_p    0.440623\n",
       "rouge-l_f    0.353807\n",
       "dtype: float64"
      ]
     },
     "execution_count": 59,
     "metadata": {},
     "output_type": "execute_result"
    }
   ],
   "source": [
    "df_rouge.mean()"
   ]
  },
  {
   "cell_type": "markdown",
   "id": "8c0ef697-5380-4d0e-b8b0-e504f83cee06",
   "metadata": {},
   "source": [
    "The average rouge-2 f score is 0.20."
   ]
  },
  {
   "cell_type": "code",
   "execution_count": null,
   "id": "265abbc8-8fd9-4ee8-adb5-e54dc00bd740",
   "metadata": {},
   "outputs": [],
   "source": []
  }
 ],
 "metadata": {
  "kernelspec": {
   "display_name": "llm-zoomcamp",
   "language": "python",
   "name": "llm-zoomcamp"
  },
  "language_info": {
   "codemirror_mode": {
    "name": "ipython",
    "version": 3
   },
   "file_extension": ".py",
   "mimetype": "text/x-python",
   "name": "python",
   "nbconvert_exporter": "python",
   "pygments_lexer": "ipython3",
   "version": "3.10.9"
  }
 },
 "nbformat": 4,
 "nbformat_minor": 5
}
