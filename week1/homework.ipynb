{
 "cells": [
  {
   "cell_type": "markdown",
   "id": "bd004f57-a786-40e1-8e9e-a3b851184add",
   "metadata": {},
   "source": []
  },
  {
   "cell_type": "markdown",
   "id": "1801e1ac-9d1e-435e-ac04-1940f68fe28e",
   "metadata": {},
   "source": [
    "# Q1. Running Elastic"
   ]
  },
  {
   "cell_type": "code",
   "execution_count": 1,
   "id": "0f033811-6292-4b09-a391-c594f119e0d4",
   "metadata": {},
   "outputs": [
    {
     "name": "stdout",
     "output_type": "stream",
     "text": [
      "{\n",
      "  \"name\" : \"a47f12568074\",\n",
      "  \"cluster_name\" : \"docker-cluster\",\n",
      "  \"cluster_uuid\" : \"Vk-UIgGMS9COHd7ozittxA\",\n",
      "  \"version\" : {\n",
      "    \"number\" : \"8.4.3\",\n",
      "    \"build_flavor\" : \"default\",\n",
      "    \"build_type\" : \"docker\",\n",
      "    \"build_hash\" : \"42f05b9372a9a4a470db3b52817899b99a76ee73\",\n",
      "    \"build_date\" : \"2022-10-04T07:17:24.662462378Z\",\n",
      "    \"build_snapshot\" : false,\n",
      "    \"lucene_version\" : \"9.3.0\",\n",
      "    \"minimum_wire_compatibility_version\" : \"7.17.0\",\n",
      "    \"minimum_index_compatibility_version\" : \"7.0.0\"\n",
      "  },\n",
      "  \"tagline\" : \"You Know, for Search\"\n",
      "}\n"
     ]
    }
   ],
   "source": [
    "!curl localhost:9200"
   ]
  },
  {
   "cell_type": "markdown",
   "id": "af1f8ac0-006a-43e6-ba42-f721767c5ecc",
   "metadata": {},
   "source": [
    "The version build hash 42f05b9372a9a4a470db3b52817899b99a76ee73"
   ]
  },
  {
   "cell_type": "code",
   "execution_count": 2,
   "id": "ff5e2371-b605-4c5a-9c82-61ab89b2a2ea",
   "metadata": {},
   "outputs": [],
   "source": [
    "import requests \n",
    "\n",
    "docs_url = 'https://github.com/DataTalksClub/llm-zoomcamp/blob/main/01-intro/documents.json?raw=1'\n",
    "docs_response = requests.get(docs_url)\n",
    "documents_raw = docs_response.json()\n",
    "\n",
    "documents = []\n",
    "\n",
    "for course in documents_raw:\n",
    "    course_name = course['course']\n",
    "\n",
    "    for doc in course['documents']:\n",
    "        doc['course'] = course_name\n",
    "        documents.append(doc)"
   ]
  },
  {
   "cell_type": "markdown",
   "id": "ea6138b3-b47d-4101-bb71-3c9cb2e450be",
   "metadata": {},
   "source": [
    "# Q2. Indexing the data"
   ]
  },
  {
   "cell_type": "code",
   "execution_count": 3,
   "id": "034243a1-d451-4bd2-a443-67eae40292ac",
   "metadata": {},
   "outputs": [],
   "source": [
    "from elasticsearch import Elasticsearch"
   ]
  },
  {
   "cell_type": "code",
   "execution_count": 4,
   "id": "4fc621e2-14ea-4577-91af-cec85a9c3482",
   "metadata": {},
   "outputs": [],
   "source": [
    "es_client = Elasticsearch('http://localhost:9200')"
   ]
  },
  {
   "cell_type": "code",
   "execution_count": 5,
   "id": "b4ac7902-e739-4e52-ad93-0c52c7c7ef5e",
   "metadata": {},
   "outputs": [],
   "source": [
    "index_settings = {\n",
    "    \"settings\": {\n",
    "        \"number_of_shards\": 1,\n",
    "        \"number_of_replicas\": 0\n",
    "    },\n",
    "    \"mappings\": {\n",
    "        \"properties\": {\n",
    "            \"text\": {\"type\": \"text\"},\n",
    "            \"section\": {\"type\": \"text\"},\n",
    "            \"question\": {\"type\": \"text\"},\n",
    "            \"course\": {\"type\": \"keyword\"} \n",
    "        }\n",
    "    }\n",
    "}"
   ]
  },
  {
   "cell_type": "code",
   "execution_count": 6,
   "id": "0478199a-43b3-4a20-967b-d2aa2317e08a",
   "metadata": {},
   "outputs": [],
   "source": [
    "index_name = \"course-questions\""
   ]
  },
  {
   "cell_type": "code",
   "execution_count": 7,
   "id": "801af552-c939-4b29-85ab-07a0eb62daba",
   "metadata": {},
   "outputs": [
    {
     "data": {
      "text/plain": [
       "ObjectApiResponse({'acknowledged': True, 'shards_acknowledged': True, 'index': 'course-questions'})"
      ]
     },
     "execution_count": 7,
     "metadata": {},
     "output_type": "execute_result"
    }
   ],
   "source": [
    "es_client.indices.create(index=index_name, body=index_settings)"
   ]
  },
  {
   "cell_type": "code",
   "execution_count": 8,
   "id": "dcbfecf3-3d30-4437-a2c9-a56b3d7655a0",
   "metadata": {},
   "outputs": [],
   "source": [
    "for doc in documents:\n",
    "    es_client.index(index=index_name, document=doc)"
   ]
  },
  {
   "cell_type": "markdown",
   "id": "4faeb3b0-cf23-4229-99bc-f6639525f44a",
   "metadata": {},
   "source": [
    "We use the index method to add data to elastic."
   ]
  },
  {
   "cell_type": "markdown",
   "id": "417ee975-4a2d-4d49-b1a1-e3045d9006d4",
   "metadata": {},
   "source": [
    "# Q3. Searching"
   ]
  },
  {
   "cell_type": "code",
   "execution_count": 9,
   "id": "5ec66255-e32a-415e-8d15-aff862a0aa4a",
   "metadata": {},
   "outputs": [],
   "source": [
    "query = \"How do I execute a command in a running docker container?\""
   ]
  },
  {
   "cell_type": "code",
   "execution_count": 11,
   "id": "861ec69e-2f8b-413f-9411-a5dccd6f8625",
   "metadata": {},
   "outputs": [],
   "source": [
    "search_query = {\n",
    "    \"size\": 5,\n",
    "    \"query\": {\n",
    "        \"bool\": {\n",
    "            \"must\": {\n",
    "                \"multi_match\": {\n",
    "                    \"query\": query,\n",
    "                    \"fields\": [\"question^4\", \"text\"],\n",
    "                    \"type\": \"best_fields\"\n",
    "                }\n",
    "            }\n",
    "        }\n",
    "    }\n",
    "}"
   ]
  },
  {
   "cell_type": "code",
   "execution_count": 12,
   "id": "1ffd3c09-72a0-4615-894d-4f7236bb4ed8",
   "metadata": {},
   "outputs": [],
   "source": [
    "resp = es_client.search(index=index_name, body=search_query)"
   ]
  },
  {
   "cell_type": "code",
   "execution_count": 18,
   "id": "926acab2-a7a3-469e-b00c-c497583dc40b",
   "metadata": {},
   "outputs": [
    {
     "name": "stdout",
     "output_type": "stream",
     "text": [
      "84.050095\n",
      "75.54128\n",
      "72.08518\n",
      "51.04628\n",
      "49.938507\n"
     ]
    }
   ],
   "source": [
    "for hit in resp['hits']['hits']:\n",
    "    print(hit['_score'])"
   ]
  },
  {
   "cell_type": "markdown",
   "id": "53cc0753-4a93-424b-8428-7252ad8d4d92",
   "metadata": {},
   "source": [
    "The score of the top ranking result is 84.05"
   ]
  },
  {
   "cell_type": "markdown",
   "id": "76c28096-ae8e-47e9-9f37-6dfcc00b6bc9",
   "metadata": {},
   "source": [
    "# Q4. Filtering"
   ]
  },
  {
   "cell_type": "code",
   "execution_count": 26,
   "id": "b45616e6-e40a-4a06-931a-2c292adc18e2",
   "metadata": {},
   "outputs": [],
   "source": [
    "search_query = {\n",
    "    \"size\": 3,\n",
    "    \"query\": {\n",
    "        \"bool\": {\n",
    "            \"must\": {\n",
    "                \"multi_match\": {\n",
    "                    \"query\": query,\n",
    "                    \"fields\": [\"question^4\", \"text\"],\n",
    "                    \"type\": \"best_fields\"\n",
    "                }\n",
    "            },\n",
    "            \"filter\": {\n",
    "                \"term\": {\n",
    "                    \"course\": \"machine-learning-zoomcamp\"\n",
    "                }\n",
    "            }\n",
    "        }\n",
    "    }\n",
    "}"
   ]
  },
  {
   "cell_type": "code",
   "execution_count": 27,
   "id": "d7c39e95-dea4-4094-aa76-cf47a3218678",
   "metadata": {},
   "outputs": [],
   "source": [
    "resp = es_client.search(index=index_name, body=search_query)"
   ]
  },
  {
   "cell_type": "code",
   "execution_count": 28,
   "id": "62cb66e1-9159-4d8f-bd35-f92971614c55",
   "metadata": {},
   "outputs": [
    {
     "name": "stdout",
     "output_type": "stream",
     "text": [
      "How do I debug a docker container?\n",
      "\n",
      "How do I copy files from my local machine to docker container?\n",
      "\n",
      "How do I copy files from a different folder into docker container’s working directory?\n",
      "\n"
     ]
    }
   ],
   "source": [
    "for hit in resp['hits']['hits']:\n",
    "    print(hit['_source']['question'])\n",
    "    print()"
   ]
  },
  {
   "cell_type": "markdown",
   "id": "2f1195b4-d1a3-4b45-92f9-daf18716a715",
   "metadata": {},
   "source": [
    "The third question is : \"How do I copy files from a different folder into docker container’s working directory?\""
   ]
  },
  {
   "cell_type": "markdown",
   "id": "4c61799f-9b30-423c-85d8-36298013a63f",
   "metadata": {},
   "source": [
    "# Q5. Building a prompt"
   ]
  },
  {
   "cell_type": "code",
   "execution_count": 54,
   "id": "4f30af8b-5a63-477d-814a-3e8b7ec8e4f4",
   "metadata": {},
   "outputs": [],
   "source": [
    "context_template = \"\"\"\n",
    "Q: {question}\n",
    "A: {text}\n",
    "\"\"\".strip()\n",
    "\n",
    "context = []\n",
    "\n",
    "for hit in resp['hits']['hits']:\n",
    "    question = hit['_source']['question']\n",
    "    text = hit['_source']['text']\n",
    "    context.append(context_template.format(question=question, text=text))\n",
    "\n",
    "context = \"\\n\\n\".join(context)"
   ]
  },
  {
   "cell_type": "code",
   "execution_count": 55,
   "id": "c0dfc027-1993-4384-b260-35760bbf8fe4",
   "metadata": {},
   "outputs": [
    {
     "data": {
      "text/plain": [
       "'Q: How do I debug a docker container?\\nA: Launch the container image in interactive mode and overriding the entrypoint, so that it starts a bash command.\\ndocker run -it --entrypoint bash <image>\\nIf the container is already running, execute a command in the specific container:\\ndocker ps (find the container-id)\\ndocker exec -it <container-id> bash\\n(Marcos MJD)\\n\\nQ: How do I copy files from my local machine to docker container?\\nA: You can copy files from your local machine into a Docker container using the docker cp command. Here\\'s how to do it:\\nTo copy a file or directory from your local machine into a running Docker container, you can use the `docker cp command`. The basic syntax is as follows:\\ndocker cp /path/to/local/file_or_directory container_id:/path/in/container\\nHrithik Kumar Advani\\n\\nQ: How do I copy files from a different folder into docker container’s working directory?\\nA: You can copy files from your local machine into a Docker container using the docker cp command. Here\\'s how to do it:\\nIn the Dockerfile, you can provide the folder containing the files that you want to copy over. The basic syntax is as follows:\\nCOPY [\"src/predict.py\", \"models/xgb_model.bin\", \"./\"]\\t\\t\\t\\t\\t\\t\\t\\t\\t\\t\\tGopakumar Gopinathan'"
      ]
     },
     "execution_count": 55,
     "metadata": {},
     "output_type": "execute_result"
    }
   ],
   "source": [
    "context"
   ]
  },
  {
   "cell_type": "code",
   "execution_count": 56,
   "id": "5d4c48bc-6817-4963-bec8-48dc0ca7a1d4",
   "metadata": {},
   "outputs": [],
   "source": [
    "prompt_template = \"\"\"\n",
    "You're a course teaching assistant. Answer the QUESTION based on the CONTEXT from the FAQ database.\n",
    "Use only the facts from the CONTEXT when answering the QUESTION.\n",
    "\n",
    "QUESTION: {question}\n",
    "\n",
    "CONTEXT:\n",
    "{context}\n",
    "\"\"\".strip()"
   ]
  },
  {
   "cell_type": "code",
   "execution_count": 57,
   "id": "30796d14-fbfe-4915-98e3-f08d418a7eef",
   "metadata": {},
   "outputs": [],
   "source": [
    "question = \"How do I execute a command in a running docker container?\""
   ]
  },
  {
   "cell_type": "code",
   "execution_count": 58,
   "id": "662e985a-9d99-49a8-97f8-223d66e50005",
   "metadata": {},
   "outputs": [],
   "source": [
    "prompt = prompt_template.format(question=question, context=context)"
   ]
  },
  {
   "cell_type": "code",
   "execution_count": 59,
   "id": "aa3b9c83-d81a-4b11-949b-0ba76395cd26",
   "metadata": {},
   "outputs": [
    {
     "data": {
      "text/plain": [
       "'You\\'re a course teaching assistant. Answer the QUESTION based on the CONTEXT from the FAQ database.\\nUse only the facts from the CONTEXT when answering the QUESTION.\\n\\nQUESTION: How do I execute a command in a running docker container?\\n\\nCONTEXT:\\nQ: How do I debug a docker container?\\nA: Launch the container image in interactive mode and overriding the entrypoint, so that it starts a bash command.\\ndocker run -it --entrypoint bash <image>\\nIf the container is already running, execute a command in the specific container:\\ndocker ps (find the container-id)\\ndocker exec -it <container-id> bash\\n(Marcos MJD)\\n\\nQ: How do I copy files from my local machine to docker container?\\nA: You can copy files from your local machine into a Docker container using the docker cp command. Here\\'s how to do it:\\nTo copy a file or directory from your local machine into a running Docker container, you can use the `docker cp command`. The basic syntax is as follows:\\ndocker cp /path/to/local/file_or_directory container_id:/path/in/container\\nHrithik Kumar Advani\\n\\nQ: How do I copy files from a different folder into docker container’s working directory?\\nA: You can copy files from your local machine into a Docker container using the docker cp command. Here\\'s how to do it:\\nIn the Dockerfile, you can provide the folder containing the files that you want to copy over. The basic syntax is as follows:\\nCOPY [\"src/predict.py\", \"models/xgb_model.bin\", \"./\"]\\t\\t\\t\\t\\t\\t\\t\\t\\t\\t\\tGopakumar Gopinathan'"
      ]
     },
     "execution_count": 59,
     "metadata": {},
     "output_type": "execute_result"
    }
   ],
   "source": [
    "prompt"
   ]
  },
  {
   "cell_type": "code",
   "execution_count": 60,
   "id": "5b27a0df-9e68-45fe-8397-0e72e3087c90",
   "metadata": {},
   "outputs": [
    {
     "data": {
      "text/plain": [
       "1462"
      ]
     },
     "execution_count": 60,
     "metadata": {},
     "output_type": "execute_result"
    }
   ],
   "source": [
    "len(prompt)"
   ]
  },
  {
   "cell_type": "markdown",
   "id": "efb30709-0355-4663-8d31-0233adf15ff0",
   "metadata": {},
   "source": [
    "The length of the resulting prompt is 1462."
   ]
  },
  {
   "cell_type": "markdown",
   "id": "29e32483-994b-4b91-b942-4cf49e6e50d1",
   "metadata": {},
   "source": [
    "# Q6. Tokens"
   ]
  },
  {
   "cell_type": "code",
   "execution_count": 61,
   "id": "666ba26d-27bf-4085-9207-8e12267290ab",
   "metadata": {},
   "outputs": [],
   "source": [
    "import tiktoken"
   ]
  },
  {
   "cell_type": "code",
   "execution_count": 62,
   "id": "6946f49d-65cc-4975-8295-020d0c15a02a",
   "metadata": {},
   "outputs": [],
   "source": [
    "encoding = tiktoken.encoding_for_model(\"gpt-4o\")"
   ]
  },
  {
   "cell_type": "code",
   "execution_count": 68,
   "id": "eb02be6c-5e25-4845-ac54-c407ffd6f53e",
   "metadata": {},
   "outputs": [],
   "source": [
    "tokens = encoding.encode(prompt)"
   ]
  },
  {
   "cell_type": "code",
   "execution_count": 69,
   "id": "285c216d-4251-414a-8bda-5bfb08f03a89",
   "metadata": {},
   "outputs": [
    {
     "data": {
      "text/plain": [
       "322"
      ]
     },
     "execution_count": 69,
     "metadata": {},
     "output_type": "execute_result"
    }
   ],
   "source": [
    "len(tokens)"
   ]
  },
  {
   "cell_type": "code",
   "execution_count": 70,
   "id": "18dfe450-8d32-4cb2-b8f0-c86555cc1b9e",
   "metadata": {},
   "outputs": [
    {
     "name": "stdout",
     "output_type": "stream",
     "text": [
      "b\"You're\"\n",
      "b' a'\n",
      "b' course'\n",
      "b' teaching'\n",
      "b' assistant'\n",
      "b'.'\n",
      "b' Answer'\n",
      "b' the'\n",
      "b' QUESTION'\n",
      "b' based'\n",
      "b' on'\n",
      "b' the'\n",
      "b' CONT'\n",
      "b'EXT'\n",
      "b' from'\n",
      "b' the'\n",
      "b' FAQ'\n",
      "b' database'\n",
      "b'.\\n'\n",
      "b'Use'\n",
      "b' only'\n",
      "b' the'\n",
      "b' facts'\n",
      "b' from'\n",
      "b' the'\n",
      "b' CONT'\n",
      "b'EXT'\n",
      "b' when'\n",
      "b' answering'\n",
      "b' the'\n",
      "b' QUESTION'\n",
      "b'.\\n\\n'\n",
      "b'QUESTION'\n",
      "b':'\n",
      "b' How'\n",
      "b' do'\n",
      "b' I'\n",
      "b' execute'\n",
      "b' a'\n",
      "b' command'\n",
      "b' in'\n",
      "b' a'\n",
      "b' running'\n",
      "b' docker'\n",
      "b' container'\n",
      "b'?\\n\\n'\n",
      "b'CON'\n",
      "b'TEXT'\n",
      "b':\\n'\n",
      "b'Q'\n",
      "b':'\n",
      "b' How'\n",
      "b' do'\n",
      "b' I'\n",
      "b' debug'\n",
      "b' a'\n",
      "b' docker'\n",
      "b' container'\n",
      "b'?\\n'\n",
      "b'A'\n",
      "b':'\n",
      "b' Launch'\n",
      "b' the'\n",
      "b' container'\n",
      "b' image'\n",
      "b' in'\n",
      "b' interactive'\n",
      "b' mode'\n",
      "b' and'\n",
      "b' overriding'\n",
      "b' the'\n",
      "b' entry'\n",
      "b'point'\n",
      "b','\n",
      "b' so'\n",
      "b' that'\n",
      "b' it'\n",
      "b' starts'\n",
      "b' a'\n",
      "b' bash'\n",
      "b' command'\n",
      "b'.\\n'\n",
      "b'docker'\n",
      "b' run'\n",
      "b' -'\n",
      "b'it'\n",
      "b' --'\n",
      "b'entry'\n",
      "b'point'\n",
      "b' bash'\n",
      "b' <'\n",
      "b'image'\n",
      "b'>\\n'\n",
      "b'If'\n",
      "b' the'\n",
      "b' container'\n",
      "b' is'\n",
      "b' already'\n",
      "b' running'\n",
      "b','\n",
      "b' execute'\n",
      "b' a'\n",
      "b' command'\n",
      "b' in'\n",
      "b' the'\n",
      "b' specific'\n",
      "b' container'\n",
      "b':\\n'\n",
      "b'docker'\n",
      "b' ps'\n",
      "b' ('\n",
      "b'find'\n",
      "b' the'\n",
      "b' container'\n",
      "b'-id'\n",
      "b')\\n'\n",
      "b'docker'\n",
      "b' exec'\n",
      "b' -'\n",
      "b'it'\n",
      "b' <'\n",
      "b'container'\n",
      "b'-id'\n",
      "b'>'\n",
      "b' bash'\n",
      "b'\\n'\n",
      "b'(M'\n",
      "b'ar'\n",
      "b'cos'\n",
      "b' M'\n",
      "b'JD'\n",
      "b')\\n\\n'\n",
      "b'Q'\n",
      "b':'\n",
      "b' How'\n",
      "b' do'\n",
      "b' I'\n",
      "b' copy'\n",
      "b' files'\n",
      "b' from'\n",
      "b' my'\n",
      "b' local'\n",
      "b' machine'\n",
      "b' to'\n",
      "b' docker'\n",
      "b' container'\n",
      "b'?\\n'\n",
      "b'A'\n",
      "b':'\n",
      "b' You'\n",
      "b' can'\n",
      "b' copy'\n",
      "b' files'\n",
      "b' from'\n",
      "b' your'\n",
      "b' local'\n",
      "b' machine'\n",
      "b' into'\n",
      "b' a'\n",
      "b' Docker'\n",
      "b' container'\n",
      "b' using'\n",
      "b' the'\n",
      "b' docker'\n",
      "b' cp'\n",
      "b' command'\n",
      "b'.'\n",
      "b\" Here's\"\n",
      "b' how'\n",
      "b' to'\n",
      "b' do'\n",
      "b' it'\n",
      "b':\\n'\n",
      "b'To'\n",
      "b' copy'\n",
      "b' a'\n",
      "b' file'\n",
      "b' or'\n",
      "b' directory'\n",
      "b' from'\n",
      "b' your'\n",
      "b' local'\n",
      "b' machine'\n",
      "b' into'\n",
      "b' a'\n",
      "b' running'\n",
      "b' Docker'\n",
      "b' container'\n",
      "b','\n",
      "b' you'\n",
      "b' can'\n",
      "b' use'\n",
      "b' the'\n",
      "b' `'\n",
      "b'docker'\n",
      "b' cp'\n",
      "b' command'\n",
      "b'`.'\n",
      "b' The'\n",
      "b' basic'\n",
      "b' syntax'\n",
      "b' is'\n",
      "b' as'\n",
      "b' follows'\n",
      "b':\\n'\n",
      "b'docker'\n",
      "b' cp'\n",
      "b' /'\n",
      "b'path'\n",
      "b'/to'\n",
      "b'/local'\n",
      "b'/file'\n",
      "b'_or'\n",
      "b'_directory'\n",
      "b' container'\n",
      "b'_id'\n",
      "b':/'\n",
      "b'path'\n",
      "b'/in'\n",
      "b'/container'\n",
      "b'\\n'\n",
      "b'Hr'\n",
      "b'ith'\n",
      "b'ik'\n",
      "b' Kumar'\n",
      "b' Adv'\n",
      "b'ani'\n",
      "b'\\n\\n'\n",
      "b'Q'\n",
      "b':'\n",
      "b' How'\n",
      "b' do'\n",
      "b' I'\n",
      "b' copy'\n",
      "b' files'\n",
      "b' from'\n",
      "b' a'\n",
      "b' different'\n",
      "b' folder'\n",
      "b' into'\n",
      "b' docker'\n",
      "b' container'\n",
      "b'\\xe2\\x80\\x99s'\n",
      "b' working'\n",
      "b' directory'\n",
      "b'?\\n'\n",
      "b'A'\n",
      "b':'\n",
      "b' You'\n",
      "b' can'\n",
      "b' copy'\n",
      "b' files'\n",
      "b' from'\n",
      "b' your'\n",
      "b' local'\n",
      "b' machine'\n",
      "b' into'\n",
      "b' a'\n",
      "b' Docker'\n",
      "b' container'\n",
      "b' using'\n",
      "b' the'\n",
      "b' docker'\n",
      "b' cp'\n",
      "b' command'\n",
      "b'.'\n",
      "b\" Here's\"\n",
      "b' how'\n",
      "b' to'\n",
      "b' do'\n",
      "b' it'\n",
      "b':\\n'\n",
      "b'In'\n",
      "b' the'\n",
      "b' Docker'\n",
      "b'file'\n",
      "b','\n",
      "b' you'\n",
      "b' can'\n",
      "b' provide'\n",
      "b' the'\n",
      "b' folder'\n",
      "b' containing'\n",
      "b' the'\n",
      "b' files'\n",
      "b' that'\n",
      "b' you'\n",
      "b' want'\n",
      "b' to'\n",
      "b' copy'\n",
      "b' over'\n",
      "b'.'\n",
      "b' The'\n",
      "b' basic'\n",
      "b' syntax'\n",
      "b' is'\n",
      "b' as'\n",
      "b' follows'\n",
      "b':\\n'\n",
      "b'COPY'\n",
      "b' [\"'\n",
      "b'src'\n",
      "b'/p'\n",
      "b'redict'\n",
      "b'.py'\n",
      "b'\",'\n",
      "b' \"'\n",
      "b'models'\n",
      "b'/x'\n",
      "b'gb'\n",
      "b'_model'\n",
      "b'.bin'\n",
      "b'\",'\n",
      "b' \"./'\n",
      "b'\"]'\n",
      "b'\\t\\t\\t\\t\\t\\t\\t\\t\\t\\t'\n",
      "b'\\tG'\n",
      "b'opak'\n",
      "b'umar'\n",
      "b' G'\n",
      "b'opin'\n",
      "b'athan'\n"
     ]
    }
   ],
   "source": [
    "for token in tokens:\n",
    "    print(encoding.decode_single_token_bytes(token))    "
   ]
  },
  {
   "cell_type": "markdown",
   "id": "df541512-e6a4-43e8-822b-fd092dde554c",
   "metadata": {},
   "source": [
    "The prompt has 322 tokens"
   ]
  },
  {
   "cell_type": "code",
   "execution_count": null,
   "id": "3525e138-2414-4f80-b281-886a0cc15369",
   "metadata": {},
   "outputs": [],
   "source": []
  },
  {
   "cell_type": "code",
   "execution_count": null,
   "id": "85ddecdf-f927-4439-bc74-9c2424a136fb",
   "metadata": {},
   "outputs": [],
   "source": []
  },
  {
   "cell_type": "code",
   "execution_count": null,
   "id": "467fecc9-c122-47b2-8513-cb37507457bb",
   "metadata": {},
   "outputs": [],
   "source": []
  },
  {
   "cell_type": "code",
   "execution_count": null,
   "id": "6ed3e390-b434-4e35-98eb-38f1f83cf774",
   "metadata": {},
   "outputs": [],
   "source": []
  },
  {
   "cell_type": "code",
   "execution_count": null,
   "id": "007ae62b-98d4-45e3-9196-0fcb6e96a6de",
   "metadata": {},
   "outputs": [],
   "source": []
  },
  {
   "cell_type": "code",
   "execution_count": null,
   "id": "0c15a142-8d5b-47b1-81a1-9ef08fbdef92",
   "metadata": {},
   "outputs": [],
   "source": []
  },
  {
   "cell_type": "code",
   "execution_count": null,
   "id": "aeb2e08d-c720-4e39-b6ee-d0bdae6ecc48",
   "metadata": {},
   "outputs": [],
   "source": []
  },
  {
   "cell_type": "code",
   "execution_count": null,
   "id": "6937d2ae-8160-4b78-8df5-6f6867887ea6",
   "metadata": {},
   "outputs": [],
   "source": []
  }
 ],
 "metadata": {
  "kernelspec": {
   "display_name": "llm-zoomcamp",
   "language": "python",
   "name": "llm-zoomcamp"
  },
  "language_info": {
   "codemirror_mode": {
    "name": "ipython",
    "version": 3
   },
   "file_extension": ".py",
   "mimetype": "text/x-python",
   "name": "python",
   "nbconvert_exporter": "python",
   "pygments_lexer": "ipython3",
   "version": "3.10.9"
  }
 },
 "nbformat": 4,
 "nbformat_minor": 5
}
